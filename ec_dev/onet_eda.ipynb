{
 "cells": [
  {
   "cell_type": "markdown",
   "metadata": {},
   "source": [
    "## Dev Work to connect to O*NET API\n",
    "\n",
    "Makse sure you have cloned OnetWebServices [package](https://github.com/onetcenter/web-services-samples/tree/master)\n",
    "\n",
    "\n",
    "Set up "
   ]
  },
  {
   "cell_type": "code",
   "execution_count": 6,
   "metadata": {},
   "outputs": [
    {
     "data": {
      "text/plain": [
       "'c:\\\\Users\\\\eachr\\\\Documents\\\\Git\\\\energy_jobs_analysis\\\\ec_dev'"
      ]
     },
     "execution_count": 6,
     "metadata": {},
     "output_type": "execute_result"
    }
   ],
   "source": [
    "import pandas as pd\n",
    "\n",
    "\n",
    "import os\n",
    "from getpass import getpass\n",
    "\n",
    "os.getcwd()"
   ]
  },
  {
   "cell_type": "code",
   "execution_count": 10,
   "metadata": {},
   "outputs": [],
   "source": [
    "## Find better method for version control of ONET connection\n",
    "from OnetWebService_copy import OnetWebService\n",
    "\n",
    "user_nm = input('Username pls: ')\n",
    "user_ps = getpass()"
   ]
  },
  {
   "cell_type": "code",
   "execution_count": 19,
   "metadata": {},
   "outputs": [],
   "source": [
    "soc_code = \"17-2051.00\"\n",
    "## URL to pull Skills by soc code\n",
    "api_rul = '/mnm/careers/%s/skills'%soc_code"
   ]
  },
  {
   "cell_type": "code",
   "execution_count": 12,
   "metadata": {},
   "outputs": [],
   "source": [
    "\n",
    "# initialize Web Services and results objects\n",
    "onet_ws = OnetWebService(user_nm, user_ps)\n",
    "#max_results = max(1, input['config']['max_results'])\n",
    "#output = { 'output': [] }\n"
   ]
  },
  {
   "cell_type": "code",
   "execution_count": 20,
   "metadata": {},
   "outputs": [
    {
     "data": {
      "text/plain": [
       "{'code': '17-2051.00',\n",
       " 'group': [{'title': {'id': '2.A', 'name': 'Basic Skills'},\n",
       "   'element': [{'id': '2.A.1.b',\n",
       "     'name': 'listening to others, not interrupting, and asking good questions'},\n",
       "    {'id': '2.A.1.a', 'name': 'reading work related information'}]},\n",
       "  {'title': {'id': '2.B.2', 'name': 'Problem Solving'},\n",
       "   'element': [{'id': '2.B.2.i',\n",
       "     'name': 'noticing a problem and figuring out the best way to solve it'}]},\n",
       "  {'title': {'id': '2.B.4', 'name': 'People and Technology Systems'},\n",
       "   'element': [{'id': '2.B.4.g',\n",
       "     'name': 'figuring out how a system should work and how changes in the future will affect it'},\n",
       "    {'id': '2.B.4.e',\n",
       "     'name': 'thinking about the pros and cons of different options and picking the best one'}]}]}"
      ]
     },
     "execution_count": 20,
     "metadata": {},
     "output_type": "execute_result"
    }
   ],
   "source": [
    "onet_ws._url_root\n",
    "onet_ws.call(api_rul)"
   ]
  }
 ],
 "metadata": {
  "kernelspec": {
   "display_name": "Python 3.9.4 64-bit",
   "language": "python",
   "name": "python3"
  },
  "language_info": {
   "codemirror_mode": {
    "name": "ipython",
    "version": 3
   },
   "file_extension": ".py",
   "mimetype": "text/x-python",
   "name": "python",
   "nbconvert_exporter": "python",
   "pygments_lexer": "ipython3",
   "version": "3.9.4"
  },
  "orig_nbformat": 4,
  "vscode": {
   "interpreter": {
    "hash": "99603e1ed51a7f19bad3d226470bba0ca90850cf96748da2cce1632df8f065f8"
   }
  }
 },
 "nbformat": 4,
 "nbformat_minor": 2
}
